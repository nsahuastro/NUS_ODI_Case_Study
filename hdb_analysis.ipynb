{
 "cells": [
  {
   "cell_type": "code",
   "execution_count": 13,
   "id": "049ce11f",
   "metadata": {},
   "outputs": [],
   "source": [
    "import requests\n",
    "import pandas as pd\n",
    "import os\n",
    "import glob\n",
    "from datetime import datetime\n",
    "from get_hdb_data import get_hdb_metadata_from_api, load_hdb_data_from_csv\n",
    "from preprocessing_hdb_data import preprocessing_hdb_dataframe\n"
   ]
  },
  {
   "cell_type": "markdown",
   "id": "ebb24dbe",
   "metadata": {},
   "source": [
    "Checking datastructure"
   ]
  },
  {
   "cell_type": "code",
   "execution_count": 5,
   "id": "a542cb3f",
   "metadata": {},
   "outputs": [
    {
     "name": "stdout",
     "output_type": "stream",
     "text": [
      "Found 5 datasets:\n",
      "2\n"
     ]
    }
   ],
   "source": [
    "# Base API URL\n",
    "BASE_URL = \"https://api-production.data.gov.sg/v2/public/api\"\n",
    "# Collection ID for Resale Flat Prices\n",
    "COLLECTION_ID = 189\n",
    "#hdb_url= f\"{BASE_URL}/collections/{COLLECTION_ID}/metadata\"\n",
    "\n",
    "hdb_metadata_check=get_hdb_metadata_from_api(BASE_URL, COLLECTION_ID)\n",
    "print(len(hdb_metadata_check))"
   ]
  },
  {
   "cell_type": "code",
   "execution_count": 6,
   "id": "13b4abfa",
   "metadata": {},
   "outputs": [
    {
     "name": "stdout",
     "output_type": "stream",
     "text": [
      "Found 5 csv files in ResaleFlatPrices/\n",
      "Loaded ResaleFlatPrices/Resale flat prices based on registration date from Jan-2017 onwards.csv with shape (216743, 11)\n",
      "Columns: ['month', 'town', 'flat_type', 'block', 'street_name', 'storey_range', 'floor_area_sqm', 'flat_model', 'lease_commence_date', 'remaining_lease', 'resale_price']\n",
      "     month        town flat_type block        street_name storey_range  \\\n",
      "0  2017-01  ANG MO KIO    2 ROOM   406  ANG MO KIO AVE 10     10 TO 12   \n",
      "1  2017-01  ANG MO KIO    3 ROOM   108   ANG MO KIO AVE 4     01 TO 03   \n",
      "\n",
      "   floor_area_sqm      flat_model  lease_commence_date     remaining_lease  \\\n",
      "0            44.0        Improved                 1979  61 years 04 months   \n",
      "1            67.0  New Generation                 1978  60 years 07 months   \n",
      "\n",
      "   resale_price  \n",
      "0      232000.0  \n",
      "1      250000.0  \n",
      "Loaded ResaleFlatPrices/Resale Flat Prices (Based on Registration Date), From Mar 2012 to Dec 2014.csv with shape (52203, 10)\n",
      "Columns: ['month', 'town', 'flat_type', 'block', 'street_name', 'storey_range', 'floor_area_sqm', 'flat_model', 'lease_commence_date', 'resale_price']\n",
      "     month        town flat_type block       street_name storey_range  \\\n",
      "0  2012-03  ANG MO KIO    2 ROOM   172  ANG MO KIO AVE 4     06 TO 10   \n",
      "1  2012-03  ANG MO KIO    2 ROOM   510  ANG MO KIO AVE 8     01 TO 05   \n",
      "\n",
      "   floor_area_sqm flat_model  lease_commence_date  resale_price  \n",
      "0            45.0   Improved                 1986      250000.0  \n",
      "1            44.0   Improved                 1980      265000.0  \n",
      "Loaded ResaleFlatPrices/Resale Flat Prices (Based on Approval Date), 1990 - 1999.csv with shape (287196, 10)\n",
      "Columns: ['month', 'town', 'flat_type', 'block', 'street_name', 'storey_range', 'floor_area_sqm', 'flat_model', 'lease_commence_date', 'resale_price']\n",
      "     month        town flat_type block       street_name storey_range  \\\n",
      "0  1990-01  ANG MO KIO    1 ROOM   309  ANG MO KIO AVE 1     10 TO 12   \n",
      "1  1990-01  ANG MO KIO    1 ROOM   309  ANG MO KIO AVE 1     04 TO 06   \n",
      "\n",
      "   floor_area_sqm flat_model  lease_commence_date  resale_price  \n",
      "0            31.0   IMPROVED                 1977          9000  \n",
      "1            31.0   IMPROVED                 1977          6000  \n",
      "Loaded ResaleFlatPrices/Resale Flat Prices (Based on Registration Date), From Jan 2015 to Dec 2016.csv with shape (37153, 11)\n",
      "Columns: ['month', 'town', 'flat_type', 'block', 'street_name', 'storey_range', 'floor_area_sqm', 'flat_model', 'lease_commence_date', 'remaining_lease', 'resale_price']\n",
      "     month        town flat_type block        street_name storey_range  \\\n",
      "0  2015-01  ANG MO KIO    3 ROOM   174   ANG MO KIO AVE 4     07 TO 09   \n",
      "1  2015-01  ANG MO KIO    3 ROOM   541  ANG MO KIO AVE 10     01 TO 03   \n",
      "\n",
      "   floor_area_sqm      flat_model  lease_commence_date  remaining_lease  \\\n",
      "0            60.0        Improved                 1986               70   \n",
      "1            68.0  New Generation                 1981               65   \n",
      "\n",
      "   resale_price  \n",
      "0      255000.0  \n",
      "1      275000.0  \n",
      "Loaded ResaleFlatPrices/Resale Flat Prices (Based on Approval Date), 2000 - Feb 2012.csv with shape (369651, 10)\n",
      "Columns: ['month', 'town', 'flat_type', 'block', 'street_name', 'storey_range', 'floor_area_sqm', 'flat_model', 'lease_commence_date', 'resale_price']\n",
      "     month        town flat_type block       street_name storey_range  \\\n",
      "0  2000-01  ANG MO KIO    3 ROOM   170  ANG MO KIO AVE 4     07 TO 09   \n",
      "1  2000-01  ANG MO KIO    3 ROOM   174  ANG MO KIO AVE 4     04 TO 06   \n",
      "\n",
      "   floor_area_sqm flat_model  lease_commence_date  resale_price  \n",
      "0            69.0   Improved                 1986      147000.0  \n",
      "1            61.0   Improved                 1986      144000.0  \n",
      "all unique columns across all files: ['town', 'block', 'floor_area_sqm', 'lease_commence_date', 'street_name', 'remaining_lease', 'storey_range', 'resale_price', 'flat_type', 'month', 'flat_model']\n",
      "checking dataframe with shape (216743, 11)\n",
      "Missing columns to be filled with NaN: []\n",
      "Columns: ['town', 'block', 'floor_area_sqm', 'lease_commence_date', 'street_name', 'remaining_lease', 'storey_range', 'resale_price', 'flat_type', 'month', 'flat_model']\n",
      "         town block  floor_area_sqm  lease_commence_date        street_name  \\\n",
      "0  ANG MO KIO   406            44.0                 1979  ANG MO KIO AVE 10   \n",
      "1  ANG MO KIO   108            67.0                 1978   ANG MO KIO AVE 4   \n",
      "\n",
      "      remaining_lease storey_range  resale_price flat_type    month  \\\n",
      "0  61 years 04 months     10 TO 12      232000.0    2 ROOM  2017-01   \n",
      "1  60 years 07 months     01 TO 03      250000.0    3 ROOM  2017-01   \n",
      "\n",
      "       flat_model  \n",
      "0        Improved  \n",
      "1  New Generation  \n",
      "\n",
      "\n",
      "checking dataframe with shape (52203, 10)\n",
      "Missing columns to be filled with NaN: ['remaining_lease']\n",
      "Columns: ['town', 'block', 'floor_area_sqm', 'lease_commence_date', 'street_name', 'remaining_lease', 'storey_range', 'resale_price', 'flat_type', 'month', 'flat_model']\n",
      "         town block  floor_area_sqm  lease_commence_date       street_name  \\\n",
      "0  ANG MO KIO   172            45.0                 1986  ANG MO KIO AVE 4   \n",
      "1  ANG MO KIO   510            44.0                 1980  ANG MO KIO AVE 8   \n",
      "\n",
      "   remaining_lease storey_range  resale_price flat_type    month flat_model  \n",
      "0              NaN     06 TO 10      250000.0    2 ROOM  2012-03   Improved  \n",
      "1              NaN     01 TO 05      265000.0    2 ROOM  2012-03   Improved  \n",
      "\n",
      "\n",
      "checking dataframe with shape (287196, 10)\n",
      "Missing columns to be filled with NaN: ['remaining_lease']\n",
      "Columns: ['town', 'block', 'floor_area_sqm', 'lease_commence_date', 'street_name', 'remaining_lease', 'storey_range', 'resale_price', 'flat_type', 'month', 'flat_model']\n",
      "         town block  floor_area_sqm  lease_commence_date       street_name  \\\n",
      "0  ANG MO KIO   309            31.0                 1977  ANG MO KIO AVE 1   \n",
      "1  ANG MO KIO   309            31.0                 1977  ANG MO KIO AVE 1   \n",
      "\n",
      "   remaining_lease storey_range  resale_price flat_type    month flat_model  \n",
      "0              NaN     10 TO 12          9000    1 ROOM  1990-01   IMPROVED  \n",
      "1              NaN     04 TO 06          6000    1 ROOM  1990-01   IMPROVED  \n",
      "\n",
      "\n",
      "checking dataframe with shape (37153, 11)\n",
      "Missing columns to be filled with NaN: []\n",
      "Columns: ['town', 'block', 'floor_area_sqm', 'lease_commence_date', 'street_name', 'remaining_lease', 'storey_range', 'resale_price', 'flat_type', 'month', 'flat_model']\n",
      "         town block  floor_area_sqm  lease_commence_date        street_name  \\\n",
      "0  ANG MO KIO   174            60.0                 1986   ANG MO KIO AVE 4   \n",
      "1  ANG MO KIO   541            68.0                 1981  ANG MO KIO AVE 10   \n",
      "\n",
      "   remaining_lease storey_range  resale_price flat_type    month  \\\n",
      "0               70     07 TO 09      255000.0    3 ROOM  2015-01   \n",
      "1               65     01 TO 03      275000.0    3 ROOM  2015-01   \n",
      "\n",
      "       flat_model  \n",
      "0        Improved  \n",
      "1  New Generation  \n",
      "\n",
      "\n",
      "checking dataframe with shape (369651, 10)\n",
      "Missing columns to be filled with NaN: ['remaining_lease']\n",
      "Columns: ['town', 'block', 'floor_area_sqm', 'lease_commence_date', 'street_name', 'remaining_lease', 'storey_range', 'resale_price', 'flat_type', 'month', 'flat_model']\n",
      "         town block  floor_area_sqm  lease_commence_date       street_name  \\\n",
      "0  ANG MO KIO   170            69.0                 1986  ANG MO KIO AVE 4   \n",
      "1  ANG MO KIO   174            61.0                 1986  ANG MO KIO AVE 4   \n",
      "\n",
      "   remaining_lease storey_range  resale_price flat_type    month flat_model  \n",
      "0              NaN     07 TO 09      147000.0    3 ROOM  2000-01   Improved  \n",
      "1              NaN     04 TO 06      144000.0    3 ROOM  2000-01   Improved  \n",
      "\n",
      "\n",
      "combined dataframe with rows 962946\n"
     ]
    }
   ],
   "source": [
    "data_path=\"ResaleFlatPrices/\"\n",
    "hdb_df= load_hdb_data_from_csv(folder_path=data_path)"
   ]
  },
  {
   "cell_type": "markdown",
   "id": "cc274d71",
   "metadata": {},
   "source": [
    "Clean and merger HDB datasets"
   ]
  },
  {
   "cell_type": "code",
   "execution_count": 10,
   "id": "42b79998",
   "metadata": {},
   "outputs": [
    {
     "name": "stdout",
     "output_type": "stream",
     "text": [
      "Converting month to datetime...\n",
      "Converting lease_commence_date to datetime...\n",
      "Converting remaining_lease to float...\n",
      "Calculating missing remaining_lease values...\n",
      "Splitting storey_range into min and max...\n"
     ]
    }
   ],
   "source": [
    "clean_hdb_df=preprocessing_hdb_dataframe(hdb_df)"
   ]
  },
  {
   "cell_type": "code",
   "execution_count": 18,
   "id": "86b7d267",
   "metadata": {},
   "outputs": [
    {
     "name": "stdout",
     "output_type": "stream",
     "text": [
      "processed file has been saved in Processed_Data/processed_hdb_data.csv\n"
     ]
    }
   ],
   "source": [
    "clean_data_folder=\"Processed_Data\"\n",
    "os.makedirs(clean_data_folder, exist_ok=True)  # creates folder if it doesn't exist\n",
    "\n",
    "#timestamp = datetime.now().strftime(\"%Y%m%d_%H%M%S\")  # e.g., 20251017_104512\n",
    "#file_path = os.path.join(clean_data_folder, f\"processed_hdb_data_{timestamp}.csv\")\n",
    "file_path = os.path.join(clean_data_folder, f\"processed_hdb_data.csv\")\n",
    "clean_hdb_df.to_csv(file_path, index=False)\n",
    "print(f\"processed file has been saved in {file_path}\")"
   ]
  },
  {
   "cell_type": "code",
   "execution_count": 17,
   "id": "0982dde3",
   "metadata": {},
   "outputs": [
    {
     "name": "stdout",
     "output_type": "stream",
     "text": [
      "              town block  floor_area_sqm lease_commence_date  \\\n",
      "0       ANG MO KIO   406            44.0          1979-01-01   \n",
      "1       ANG MO KIO   108            67.0          1978-01-01   \n",
      "2       ANG MO KIO   602            67.0          1980-01-01   \n",
      "3       ANG MO KIO   465            68.0          1980-01-01   \n",
      "4       ANG MO KIO   601            67.0          1980-01-01   \n",
      "...            ...   ...             ...                 ...   \n",
      "962941      YISHUN   212           121.0          1985-01-01   \n",
      "962942      YISHUN   758           122.0          1986-01-01   \n",
      "962943      YISHUN   873           122.0          1988-01-01   \n",
      "962944      YISHUN   664           181.0          1992-01-01   \n",
      "962945      YISHUN   293           163.0          1992-01-01   \n",
      "\n",
      "              street_name  remaining_lease storey_range  resale_price  \\\n",
      "0       ANG MO KIO AVE 10        61.333333     10 TO 12      232000.0   \n",
      "1        ANG MO KIO AVE 4        60.583333     01 TO 03      250000.0   \n",
      "2        ANG MO KIO AVE 5        62.416667     01 TO 03      262000.0   \n",
      "3       ANG MO KIO AVE 10        62.083333     04 TO 06      265000.0   \n",
      "4        ANG MO KIO AVE 5        62.416667     01 TO 03      265000.0   \n",
      "...                   ...              ...          ...           ...   \n",
      "962941       YISHUN ST 21         0.000000     10 TO 12      476888.0   \n",
      "962942       YISHUN ST 72         0.000000     01 TO 03      490000.0   \n",
      "962943       YISHUN ST 81         0.000000     01 TO 03      488000.0   \n",
      "962944       YISHUN AVE 4         0.000000     07 TO 09      705000.0   \n",
      "962945       YISHUN ST 22         0.000000     04 TO 06      630000.0   \n",
      "\n",
      "        flat_type      month      flat_model  storey_range_min  \\\n",
      "0          2 ROOM 2017-01-01        Improved                10   \n",
      "1          3 ROOM 2017-01-01  New Generation                 1   \n",
      "2          3 ROOM 2017-01-01  New Generation                 1   \n",
      "3          3 ROOM 2017-01-01  New Generation                 4   \n",
      "4          3 ROOM 2017-01-01  New Generation                 1   \n",
      "...           ...        ...             ...               ...   \n",
      "962941     5 ROOM 2012-02-01        Improved                10   \n",
      "962942     5 ROOM 2012-02-01        Improved                 1   \n",
      "962943     5 ROOM 2012-02-01        Improved                 1   \n",
      "962944  EXECUTIVE 2012-02-01       Apartment                 7   \n",
      "962945  EXECUTIVE 2012-02-01       Apartment                 4   \n",
      "\n",
      "        storey_range_max  \n",
      "0                     12  \n",
      "1                      3  \n",
      "2                      3  \n",
      "3                      6  \n",
      "4                      3  \n",
      "...                  ...  \n",
      "962941                12  \n",
      "962942                 3  \n",
      "962943                 3  \n",
      "962944                 9  \n",
      "962945                 6  \n",
      "\n",
      "[962946 rows x 13 columns]\n"
     ]
    }
   ],
   "source": [
    "print(clean_hdb_df)"
   ]
  },
  {
   "cell_type": "code",
   "execution_count": null,
   "id": "80586f52",
   "metadata": {},
   "outputs": [],
   "source": []
  }
 ],
 "metadata": {
  "kernelspec": {
   "display_name": "nus_odi",
   "language": "python",
   "name": "python3"
  },
  "language_info": {
   "codemirror_mode": {
    "name": "ipython",
    "version": 3
   },
   "file_extension": ".py",
   "mimetype": "text/x-python",
   "name": "python",
   "nbconvert_exporter": "python",
   "pygments_lexer": "ipython3",
   "version": "3.11.13"
  }
 },
 "nbformat": 4,
 "nbformat_minor": 5
}
